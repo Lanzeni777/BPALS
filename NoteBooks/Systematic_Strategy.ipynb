{
 "cells": [
  {
   "cell_type": "code",
   "execution_count": null,
   "id": "6363f67a",
   "metadata": {},
   "outputs": [],
   "source": [
    "import numpy as np\n",
    "import pandas as pd\n",
    "import matplotlib.pyplot as plt\n",
    "from scipy.stats import zscore\n",
    "\n",
    "# Load stock price data (Assumed format: Date | Ticker | Close | Volume | MarketCap | P/E | P/B)\n",
    "df = pd.read_excel(\"brvm_stock_data.xlsx\", parse_dates=[\"Date\"])\n"
   ]
  },
  {
   "cell_type": "markdown",
   "id": "5edfeb91",
   "metadata": {},
   "source": [
    "## 📌 Step 2: Compute Factor Scores"
   ]
  },
  {
   "cell_type": "code",
   "execution_count": null,
   "id": "5626226e",
   "metadata": {},
   "outputs": [],
   "source": [
    "# Compute Momentum (6M, 12M returns)\n",
    "df[\"Momentum_6M\"] = df.groupby(\"Ticker\")[\"Close\"].pct_change(126)  # 6 months ≈ 126 trading days\n",
    "df[\"Momentum_12M\"] = df.groupby(\"Ticker\")[\"Close\"].pct_change(252)  # 12 months ≈ 252 trading days\n",
    "\n",
    "# Compute Volatility (Rolling 60-day standard deviation)\n",
    "df[\"Volatility\"] = df.groupby(\"Ticker\")[\"Close\"].pct_change().rolling(60).std()\n",
    "\n",
    "# Compute Liquidity (Average Daily Volume over last 3 months)\n",
    "df[\"Liquidity\"] = df.groupby(\"Ticker\")[\"Volume\"].rolling(63).mean().reset_index(0, drop=True)\n",
    "\n",
    "# Standardize factors (Z-score normalization)\n",
    "factors = [\"Momentum_6M\", \"Momentum_12M\", \"Volatility\", \"Liquidity\", \"P/E\", \"P/B\", \"MarketCap\"]\n",
    "df[factors] = df[factors].apply(zscore)\n"
   ]
  },
  {
   "cell_type": "markdown",
   "id": "f34e347d",
   "metadata": {},
   "source": [
    "## 📌 Step 3: Rank Stocks & Build Portfolio"
   ]
  },
  {
   "cell_type": "code",
   "execution_count": null,
   "id": "2fd32b2b",
   "metadata": {},
   "outputs": [],
   "source": [
    "# Compute combined factor score\n",
    "df[\"Factor_Score\"] = (\n",
    "    df[\"Momentum_6M\"] * 0.25 + df[\"Momentum_12M\"] * 0.25 +\n",
    "    df[\"Volatility\"] * -0.15 + df[\"Liquidity\"] * 0.15 + \n",
    "    df[\"P/E\"] * -0.10 + df[\"P/B\"] * -0.10 + df[\"MarketCap\"] * -0.10\n",
    ")\n",
    "\n",
    "# Rank stocks\n",
    "df[\"Rank\"] = df.groupby(\"Date\")[\"Factor_Score\"].rank(ascending=False)\n",
    "\n",
    "# Select Top 20% (Long) & Bottom 20% (Short)\n",
    "long_stocks = df[df[\"Rank\"] <= df[\"Rank\"].quantile(0.2)]\n",
    "short_stocks = df[df[\"Rank\"] >= df[\"Rank\"].quantile(0.8)]\n"
   ]
  },
  {
   "cell_type": "markdown",
   "id": "9cc21d61",
   "metadata": {},
   "source": [
    "## 📌 Step 4: Backtest Portfolio Performance"
   ]
  },
  {
   "cell_type": "code",
   "execution_count": null,
   "id": "0ce5021f",
   "metadata": {},
   "outputs": [],
   "source": [
    "# Compute portfolio returns\n",
    "df[\"Portfolio_Return\"] = df[\"Factor_Score\"].pct_change()\n",
    "df[\"BRVM_Index_Return\"] = df[\"Close\"].pct_change()  # Assuming this is the BRVM Index\n",
    "\n",
    "# Cumulative returns\n",
    "df[\"Portfolio_CumReturn\"] = (1 + df[\"Portfolio_Return\"]).cumprod()\n",
    "df[\"BRVM_CumReturn\"] = (1 + df[\"BRVM_Index_Return\"]).cumprod()\n",
    "\n",
    "# Plot Performance\n",
    "plt.figure(figsize=(12, 6))\n",
    "plt.plot(df[\"Date\"], df[\"Portfolio_CumReturn\"], label=\"Factor-Based Portfolio\", linewidth=2)\n",
    "plt.plot(df[\"Date\"], df[\"BRVM_CumReturn\"], label=\"BRVM Index\", linestyle=\"dashed\")\n",
    "plt.legend()\n",
    "plt.title(\"Factor-Based Portfolio vs. BRVM Index\")\n",
    "plt.show()"
   ]
  },
  {
   "cell_type": "markdown",
   "id": "4e328ed4",
   "metadata": {},
   "source": [
    "## 📌 Step 5: Analyze Results"
   ]
  },
  {
   "cell_type": "code",
   "execution_count": null,
   "id": "1cc5e547",
   "metadata": {},
   "outputs": [],
   "source": [
    "sharpe_ratio = df[\"Portfolio_Return\"].mean() / df[\"Portfolio_Return\"].std()\n",
    "max_drawdown = (df[\"Portfolio_CumReturn\"] / df[\"Portfolio_CumReturn\"].cummax() - 1).min()\n",
    "\n",
    "print(f\"📊 Sharpe Ratio: {sharpe_ratio:.2f}\")\n",
    "print(f\"📉 Max Drawdown: {max_drawdown:.2%}\")"
   ]
  },
  {
   "cell_type": "code",
   "execution_count": null,
   "id": "9077d02c",
   "metadata": {},
   "outputs": [],
   "source": []
  }
 ],
 "metadata": {
  "kernelspec": {
   "display_name": "Python 3 (ipykernel)",
   "language": "python",
   "name": "python3"
  },
  "language_info": {
   "codemirror_mode": {
    "name": "ipython",
    "version": 3
   },
   "file_extension": ".py",
   "mimetype": "text/x-python",
   "name": "python",
   "nbconvert_exporter": "python",
   "pygments_lexer": "ipython3",
   "version": "3.9.21"
  }
 },
 "nbformat": 4,
 "nbformat_minor": 5
}
