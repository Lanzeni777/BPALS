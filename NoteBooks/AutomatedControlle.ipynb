{
 "cells": [
  {
   "cell_type": "code",
   "execution_count": 1,
   "id": "fe0fd24e",
   "metadata": {},
   "outputs": [],
   "source": [
    "from selenium import webdriver\n",
    "from selenium.webdriver.common.by import By\n",
    "from selenium.webdriver.common.keys import Keys\n",
    "import time"
   ]
  },
  {
   "cell_type": "code",
   "execution_count": 9,
   "id": "a87f09ab",
   "metadata": {},
   "outputs": [],
   "source": [
    "\n",
    "\n",
    "def get_all_fields(url=\"https://clients.nsiafinance.com\", tag_name=\"input\"):\n",
    "    #tag name can be input, form etc...\n",
    "    # Start browser\n",
    "    driver = webdriver.Chrome()\n",
    "    driver.get(url)  # Replace with actual NSIA login URL\n",
    "\n",
    "    time.sleep(5)  # wait for full page load (adjust as needed)\n",
    "\n",
    "    # Extract and print all input fields\n",
    "    inputs = driver.find_elements(By.TAG_NAME, tag_name)\n",
    "    print(\"==== All Input Fields Found ====\")\n",
    "\n",
    "    for idx, input_elem in enumerate(inputs):\n",
    "        try:\n",
    "            name = input_elem.get_attribute(\"name\")\n",
    "            elem_id = input_elem.get_attribute(\"id\")\n",
    "            input_type = input_elem.get_attribute(\"type\")\n",
    "            placeholder = input_elem.get_attribute(\"placeholder\")\n",
    "            print(f\"{idx}: name='{name}', id='{elem_id}', type='{input_type}', placeholder='{placeholder}'\")\n",
    "        except:\n",
    "            print(f\"{idx}: failed to extract\")\n",
    "\n",
    "    print(\"=================================\")\n",
    "\n",
    "    # Keep the browser open so you can inspect it visually\n",
    "    #input(\"Press Enter to close...\")\n",
    "    driver.quit()\n",
    "\n",
    "\n",
    "def connect_me():\n",
    "    # Your credentials\n",
    "    USERNAME = \"NSIA-006358\"\n",
    "    PASSWORD = \"Brvm25@kl7\"\n",
    "\n",
    "    # Start the driver (replace with the path to your chromedriver)\n",
    "    driver = webdriver.Chrome()\n",
    "\n",
    "    # Step 1: Open the login page\n",
    "    driver.get(\"https://clients.nsiafinance.com\")\n",
    "\n",
    "    # Step 2: Fill in the login form (adjust the selectors to match the actual site)\n",
    "    time.sleep(1)  # Wait for page to load\n",
    "\n",
    "    # Locate username and password fields\n",
    "    driver.find_element(By.NAME, \"USERID\").send_keys(USERNAME)\n",
    "    driver.find_element(By.NAME, \"STATIC\").send_keys(PASSWORD)\n",
    "    driver.find_element(By.ID, \"chkRememberMe\").click()\n",
    "    driver.find_element(By.NAME, \"formSignon\").click()\n",
    "\n",
    "    # Step 3: Wait for login and load dashboard\n",
    "    time.sleep(1)  # Wait for login and redirection\n",
    "\n",
    "    # Step 4: Navigate to the page that has BRVM prices\n",
    "    driver.get(\"https://clients.nsiafinance.com/templates/home.cfm\")  # Placeholder URL\n",
    "\n",
    "    # Step 5: Extract data (adjust selectors to actual table)\n",
    "    time.sleep(1)\n",
    "    rows = driver.find_elements(By.TAG_NAME, \"tr\")\n",
    "    return driver, rows\n",
    "\n",
    "def Reconnect_me(driver):\n",
    "    # Your credentials\n",
    "    USERNAME = \"NSIA-006358\"\n",
    "    PASSWORD = \"Brvm25@kl7\"\n",
    "\n",
    "    # Locate username and password fields\n",
    "    driver.find_element(By.NAME, \"USERID\").send_keys(USERNAME)\n",
    "    driver.find_element(By.NAME, \"STATIC\").send_keys(PASSWORD)\n",
    "    driver.find_element(By.NAME, \"formSignon\").click()\n",
    "\n",
    "    # Step 3: Wait for login and load dashboard\n",
    "    time.sleep(1)  # Wait for login and redirection\n",
    "\n",
    "    # Step 4: Navigate to the page that has BRVM prices\n",
    "    driver.get(\"https://clients.nsiafinance.com/templates/home.cfm\")  # Placeholder URL\n",
    "\n",
    "    # Step 5: Extract data (adjust selectors to actual table)\n",
    "    time.sleep(1)\n",
    "    rows = driver.find_elements(By.TAG_NAME, \"tr\")\n",
    "    return rows\n",
    "\n",
    "def find_text(rows, driver, attemp=3):\n",
    "    if attemp == 0:\n",
    "        return \"Sorry cannot find anything\"\n",
    "    for row in rows:\n",
    "        cells = row.find_elements(By.TAG_NAME, \"td\")\n",
    "        output = [cell.text for cell in cells]\n",
    "        print(output)\n",
    "        if output[1]==\"Prière de vous connecter pour continuer\":\n",
    "            find_text(Reconnect_me(driver), driver, attemp-1)\n",
    "    return output\n",
    "# Step 6: Clean up\n",
    "# driver.quit()\n"
   ]
  },
  {
   "cell_type": "code",
   "execution_count": 8,
   "id": "f5aa45e8",
   "metadata": {},
   "outputs": [
    {
     "name": "stdout",
     "output_type": "stream",
     "text": [
      "==== All Input Fields Found ====\n",
      "0: name='FACTOR', id='hiddenFactor', type='hidden', placeholder=''\n",
      "1: name='logonToken', id='logonToken', type='hidden', placeholder=''\n",
      "2: name='USERID', id='inputUserId', type='text', placeholder='Identifiant de connexion'\n",
      "3: name='', id='chkRememberMe', type='checkbox', placeholder=''\n",
      "4: name='SUBUSERID', id='', type='hidden', placeholder=''\n",
      "5: name='', id='chkKeyboard', type='checkbox', placeholder=''\n",
      "6: name='STATIC', id='inputPassword', type='password', placeholder='Mot de passe'\n",
      "7: name='OTP', id='inputOTP', type='password', placeholder=''\n",
      "8: name='AUTOMATEDID', id='automatedId', type='hidden', placeholder=''\n",
      "9: name='', id='authenticationComment', type='text', placeholder=''\n",
      "=================================\n"
     ]
    }
   ],
   "source": [
    "get_all_fields()"
   ]
  },
  {
   "cell_type": "code",
   "execution_count": 10,
   "id": "53e44c12",
   "metadata": {},
   "outputs": [
    {
     "name": "stdout",
     "output_type": "stream",
     "text": [
      "['', 'Prière de vous connecter pour continuer', '×\\nClose']\n",
      "['', 'Prière de vous connecter pour continuer', '×\\nClose']\n"
     ]
    },
    {
     "data": {
      "text/plain": [
       "['', 'Prière de vous connecter pour continuer', '×\\nClose']"
      ]
     },
     "execution_count": 10,
     "metadata": {},
     "output_type": "execute_result"
    }
   ],
   "source": [
    "driver_init, rows = connect_me()\n",
    "find_text(rows, driver_init, 2)"
   ]
  },
  {
   "cell_type": "code",
   "execution_count": null,
   "id": "76b13e62",
   "metadata": {},
   "outputs": [],
   "source": []
  }
 ],
 "metadata": {
  "kernelspec": {
   "display_name": "Python 3 (ipykernel)",
   "language": "python",
   "name": "python3"
  },
  "language_info": {
   "codemirror_mode": {
    "name": "ipython",
    "version": 3
   },
   "file_extension": ".py",
   "mimetype": "text/x-python",
   "name": "python",
   "nbconvert_exporter": "python",
   "pygments_lexer": "ipython3",
   "version": "3.9.21"
  }
 },
 "nbformat": 4,
 "nbformat_minor": 5
}
